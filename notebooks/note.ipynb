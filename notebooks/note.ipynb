{
 "cells": [
  {
   "cell_type": "code",
   "execution_count": 1,
   "metadata": {},
   "outputs": [
    {
     "data": {
      "text/plain": [
       "('12', '1, 2, 3', '2023-04-02T14:27:22.180261')"
      ]
     },
     "execution_count": 1,
     "metadata": {},
     "output_type": "execute_result"
    }
   ],
   "source": [
    "from functools import singledispatch\n",
    "from datetime import datetime\n",
    "\n",
    "@singledispatch\n",
    "def to_str(instance) -> str:\n",
    "    \"\"\"This is a definition to convert things to my string.\"\"\"\n",
    "    raise NotImplementedError\n",
    "\n",
    "@to_str.register\n",
    "def __to_str_with_number(instance: int | float | str) -> str:\n",
    "    return str(instance)\n",
    "\n",
    "@to_str.register \n",
    "def __to_str_with_list(instance: list) -> str:\n",
    "    return \", \".join([to_str(x) for x in instance])\n",
    "\n",
    "@to_str.register\n",
    "def __to_str_with_datetime(instance: datetime):\n",
    "    return instance.isoformat() \n",
    "\n",
    "to_str(\"12\"), to_str([1, 2, 3]), to_str(datetime.now())\n"
   ]
  },
  {
   "cell_type": "code",
   "execution_count": 2,
   "metadata": {},
   "outputs": [
    {
     "name": "stdout",
     "output_type": "stream",
     "text": [
      "this is your lovey Dog Fido\n"
     ]
    },
    {
     "data": {
      "text/plain": [
       "'Woof!'"
      ]
     },
     "execution_count": 2,
     "metadata": {},
     "output_type": "execute_result"
    }
   ],
   "source": [
    "# abstract factory\n",
    "\n",
    "from abc import ABC, abstractclassmethod\n",
    "\n",
    "\n",
    "class Pet(ABC):\n",
    "    \n",
    "    def __init__(self, name: str) -> None:\n",
    "        self.name = name\n",
    "        \n",
    "    @abstractclassmethod\n",
    "    def speak(self):\n",
    "        pass\n",
    "    \n",
    "    @abstractclassmethod\n",
    "    def __str__(self):\n",
    "        pass\n",
    "    \n",
    "\n",
    "class Dog(Pet):\n",
    "    def speak(self):\n",
    "        return 'Woof!'\n",
    "    \n",
    "    def __str__(self):\n",
    "        return f'Dog {self.name}'\n",
    "\n",
    "\n",
    "class Cat(Pet):\n",
    "    def speak(self):\n",
    "        return 'Meow!'\n",
    "\n",
    "    def __str__(self):\n",
    "        return f'Cat {self.name}'\n",
    "    \n",
    "    \n",
    "class PetShop:\n",
    "    def __init__(self, animal_factory: Pet | None) -> None:\n",
    "        self.pet_factory = animal_factory\n",
    "        \n",
    "    def buy_pet(self, name: str) -> Pet:\n",
    "        pet = self.pet_factory(name)\n",
    "        print(f\"this is your lovey {pet}\")\n",
    "        return pet\n",
    "    \n",
    "\n",
    "MyShop = PetShop(Dog)\n",
    "pet = MyShop.buy_pet('Fido')\n",
    "pet.speak()\n",
    "\n"
   ]
  },
  {
   "cell_type": "code",
   "execution_count": 9,
   "metadata": {},
   "outputs": [
    {
     "name": "stdout",
     "output_type": "stream",
     "text": [
      "Current state : Init - Current state : Init\n",
      "Current state : stopped - Current state : stopped\n"
     ]
    }
   ],
   "source": [
    "# borg \n",
    "class Borg:\n",
    "    _shared_state: dict[str, str] = {}\n",
    "    \n",
    "    def __init__(self) -> None:\n",
    "        self.__dict__ = self._shared_state\n",
    "        self.state = \"Init\"\n",
    "        \n",
    "    def __str__(self) -> str:\n",
    "        return f\"Current state : {self.state}\"\n",
    "\n",
    "        \n",
    "class MyBorg(Borg):\n",
    "    pass \n",
    "\n",
    "\n",
    "x = MyBorg()\n",
    "y = MyBorg() \n",
    "print(x, \"-\", y)\n",
    "y.state = \"stopped\"\n",
    "print(x, \"-\", y)"
   ]
  },
  {
   "cell_type": "code",
   "execution_count": 11,
   "metadata": {},
   "outputs": [
    {
     "data": {
      "text/plain": [
       "(Floor: More than One | Size: Small, '-', Floor: One | Size: Big)"
      ]
     },
     "execution_count": 11,
     "metadata": {},
     "output_type": "execute_result"
    }
   ],
   "source": [
    "# builder\n",
    "class Building:\n",
    "    def __init__(self) -> None:\n",
    "        self.build_floor()\n",
    "        self.build_size()\n",
    "\n",
    "    def build_floor(self):\n",
    "        raise NotImplementedError\n",
    "\n",
    "    def build_size(self):\n",
    "        raise NotImplementedError\n",
    "\n",
    "    def __repr__(self) -> str:\n",
    "        return \"Floor: {0.floor} | Size: {0.size}\".format(self)\n",
    "\n",
    "\n",
    "# Concrete Buildings\n",
    "class House(Building):\n",
    "    def build_floor(self) -> None:\n",
    "        self.floor = \"One\"\n",
    "\n",
    "    def build_size(self) -> None:\n",
    "        self.size = \"Big\"\n",
    "\n",
    "\n",
    "class Flat(Building):\n",
    "    def build_floor(self) -> None:\n",
    "        self.floor = \"More than One\"\n",
    "\n",
    "    def build_size(self) -> None:\n",
    "        self.size = \"Small\"\n",
    "        \n",
    "def construct_building(cls) -> Building:\n",
    "    building = cls()\n",
    "    building.build_floor()\n",
    "    building.build_size()\n",
    "    return building\n",
    "\n",
    "flat = construct_building(Flat)\n",
    "house = construct_building(House)\n",
    "\n",
    "flat, \"-\", house\n"
   ]
  },
  {
   "cell_type": "code",
   "execution_count": 16,
   "metadata": {},
   "outputs": [
    {
     "name": "stdout",
     "output_type": "stream",
     "text": [
      "55.0\n",
      "24750\n"
     ]
    }
   ],
   "source": [
    "# If it walks like a duck and its quacks like a duck, then it must be a duck.\n",
    "\n",
    "from dataclasses import dataclass\n",
    "from typing import Protocol\n",
    "\n",
    "class Item(Protocol):\n",
    "    quantity: float\n",
    "    price: float\n",
    "    \n",
    "\n",
    "@dataclass\n",
    "class Product:\n",
    "    product_name: str \n",
    "    quantity: float\n",
    "    price: float \n",
    "    \n",
    "\n",
    "@dataclass\n",
    "class Stock:\n",
    "    stock_name: str \n",
    "    quantity: float\n",
    "    price: float \n",
    "    \n",
    "def calculate_total_price(items: list[Item]) -> float:\n",
    "    return sum([item.quantity * item.price for item in items])\n",
    "\n",
    "total = calculate_total_price([Product(\"Apple\", 10, 1.5), Product(\"Orange\", 20, 2.0)])    \n",
    "print(total)\n",
    "\n",
    "total = calculate_total_price([Stock(\"Xiaomi\", 5, 950), Stock(\"Mac\", 20, 1000)])\n",
    "print(total)"
   ]
  },
  {
   "cell_type": "code",
   "execution_count": 19,
   "metadata": {},
   "outputs": [
    {
     "name": "stdout",
     "output_type": "stream",
     "text": [
      "hello --> xin chào\n",
      "everyone --> mọi người\n"
     ]
    }
   ],
   "source": [
    "# factory\n",
    "from dataclasses import dataclass\n",
    "from typing import Type, Protocol\n",
    "\n",
    "\n",
    "class Localizer(Protocol):\n",
    "    \n",
    "    def localize(self, message: str) -> str:\n",
    "        pass\n",
    "\n",
    "@dataclass\n",
    "class VietnamLocalizer:\n",
    "    translations = {\n",
    "        \"hello\": \"xin chào\",\n",
    "        \"everyone\": \"mọi người\",\n",
    "    }\n",
    "    \n",
    "    def localize(self, message: str) -> str:\n",
    "        return self.translations.get(message, message)\n",
    "    \n",
    "@dataclass\n",
    "class EnglishLocalizer:\n",
    "    \n",
    "    def localize(self, message: str) -> str:\n",
    "        return message\n",
    "\n",
    "def get_localizer(language: str = \"English\") -> Localizer:\n",
    "    \n",
    "    localizers: dict[str, Type[Localizer]] = {\n",
    "        \"English\": EnglishLocalizer,\n",
    "        \"Vietnam\": VietnamLocalizer,\n",
    "    }\n",
    "    \n",
    "    return localizers[language]()\n",
    "\n",
    "e, v = get_localizer(\"English\"), get_localizer(\"Vietnam\")\n",
    "\n",
    "for msg in \"hello everyone\".split():\n",
    "    print(e.localize(msg), \"-->\", v.localize(msg))"
   ]
  },
  {
   "cell_type": "code",
   "execution_count": 2,
   "metadata": {},
   "outputs": [
    {
     "name": "stdout",
     "output_type": "stream",
     "text": [
      "[{'x': 'Default'}, {'y': 'OK'}, {'z': 1}]\n"
     ]
    }
   ],
   "source": [
    "# prototype\n",
    "\n",
    "class Prototype:\n",
    "     \n",
    "    def __init__(self, value: str = \"Default\", **args) -> None:\n",
    "        self.value = value\n",
    "        self.__dict__.update(args)\n",
    "        \n",
    "    def clone(self, **args) -> \"Prototype\":\n",
    "        obj = self.__class__(**self.__dict__)\n",
    "        obj.__dict__.update(args)\n",
    "\n",
    "        return obj\n",
    "    \n",
    "class PrototypeDispatcher:\n",
    "    \n",
    "    def __init__(self):\n",
    "        self._objects = {}\n",
    "        \n",
    "    def get_objects(self)-> dict[str, Prototype]:\n",
    "        return self._objects\n",
    "    \n",
    "    def register_object(self, name: str, obj: Prototype) -> None:\n",
    "        self._objects[name] = obj\n",
    "        \n",
    "    def unregister_object(self, name: str) -> None:\n",
    "        self._objects.pop(name)\n",
    "        \n",
    "\n",
    "dispatcher = PrototypeDispatcher()\n",
    "prototype = Prototype()\n",
    "\n",
    "x = prototype.clone()\n",
    "y = prototype.clone(value=\"OK\", type=\"str\")\n",
    "z = prototype.clone(value=1, is_checked=True)\n",
    "\n",
    "dispatcher.register_object(\"x\", x)\n",
    "dispatcher.register_object(\"y\", y)\n",
    "dispatcher.register_object(\"z\", z)\n",
    "\n",
    "print([{n: p.value} for n, p in dispatcher.get_objects().items()])\n"
   ]
  },
  {
   "cell_type": "code",
   "execution_count": 16,
   "metadata": {},
   "outputs": [
    {
     "name": "stdout",
     "output_type": "stream",
     "text": [
      "A Cat goes meow!\n",
      "A Dog goes woof!\n",
      "A Car goes brum brum !!!\n",
      "A Human goes hello\n"
     ]
    }
   ],
   "source": [
    "from typing import Callable, TypeVar\n",
    "\n",
    "class Dog:\n",
    "    def __init__(self) -> None:\n",
    "        self.name = \"Dog\"\n",
    "\n",
    "    def bark(self) -> str:\n",
    "        return \"woof!\"\n",
    "\n",
    "\n",
    "class Cat:\n",
    "    def __init__(self) -> None:\n",
    "        self.name = \"Cat\"\n",
    "\n",
    "    def meow(self) -> str:\n",
    "        return \"meow!\"\n",
    "    \n",
    "class Human:\n",
    "    def __init__(self) -> None:\n",
    "        self.name = \"Human\"\n",
    "\n",
    "    def speak(self) -> str:\n",
    "        return \"hello\"\n",
    "\n",
    "\n",
    "class Car:\n",
    "    def __init__(self) -> None:\n",
    "        self.name = \"Car\"\n",
    "\n",
    "    def make_noise(self, octane_level: int) -> str:\n",
    "        return f\"brum brum {'!' * octane_level}\"\n",
    "    \n",
    "\n",
    "T = TypeVar(\"T\")\n",
    "\n",
    "class Adapter:\n",
    "    def __init__(self, object: T, **adapter_method: Callable) -> None:\n",
    "        self.object = object\n",
    "        self.__dict__.update(adapter_method)\n",
    "        \n",
    "    def __getattr__(self, attr: str) -> Callable:\n",
    "        return getattr(self.object, attr)\n",
    "    \n",
    "    def orginal_dict(self) -> dict:\n",
    "        return self.object.__dict__\n",
    "    \n",
    "\n",
    "objects = [] \n",
    "\n",
    "cat = Cat()\n",
    "dog = Dog()\n",
    "car = Car()\n",
    "human = Human()\n",
    "\n",
    "objects.append(Adapter(cat, make_noise=cat.meow))\n",
    "objects.append(Adapter(dog, make_noise=dog.bark))\n",
    "objects.append(Adapter(car, make_noise=lambda: car.make_noise(3)))\n",
    "objects.append(Adapter(human, make_noise=human.speak))\n",
    "\n",
    "for obj in objects:\n",
    "    print(f\"A {obj.name} goes {obj.make_noise()}\")"
   ]
  },
  {
   "cell_type": "code",
   "execution_count": 17,
   "metadata": {},
   "outputs": [
    {
     "name": "stdout",
     "output_type": "stream",
     "text": [
      "Freezing processor.\n",
      "Loading from 0x00 data: 'Some data from sector 100 with size 1024'.\n",
      "Jumping to: 0x00\n",
      "Executing.\n"
     ]
    }
   ],
   "source": [
    "class CPU:\n",
    "    \"\"\"\n",
    "    Simple CPU representation.\n",
    "    \"\"\"\n",
    "\n",
    "    def freeze(self) -> None:\n",
    "        print(\"Freezing processor.\")\n",
    "\n",
    "    def jump(self, position: str) -> None:\n",
    "        print(\"Jumping to:\", position)\n",
    "\n",
    "    def execute(self) -> None:\n",
    "        print(\"Executing.\")\n",
    "\n",
    "\n",
    "class Memory:\n",
    "    \"\"\"\n",
    "    Simple memory representation.\n",
    "    \"\"\"\n",
    "\n",
    "    def load(self, position: str, data: str) -> None:\n",
    "        print(f\"Loading from {position} data: '{data}'.\")\n",
    "\n",
    "\n",
    "class SolidStateDrive:\n",
    "    \"\"\"\n",
    "    Simple solid state drive representation.\n",
    "    \"\"\"\n",
    "\n",
    "    def read(self, lba: str, size: str) -> str:\n",
    "        return f\"Some data from sector {lba} with size {size}\"\n",
    "\n",
    "\n",
    "class ComputerFacade:\n",
    "    \"\"\"\n",
    "    Represents a facade for various computer parts.\n",
    "    \"\"\"\n",
    "\n",
    "    def __init__(self):\n",
    "        self.cpu = CPU()\n",
    "        self.memory = Memory()\n",
    "        self.ssd = SolidStateDrive()\n",
    "\n",
    "    def start(self):\n",
    "        self.cpu.freeze()\n",
    "        self.memory.load(\"0x00\", self.ssd.read(\"100\", \"1024\"))\n",
    "        self.cpu.jump(\"0x00\")\n",
    "        self.cpu.execute()\n",
    "\n",
    "\n",
    "\n",
    "computer_facade = ComputerFacade()\n",
    "computer_facade.start()"
   ]
  },
  {
   "cell_type": "code",
   "execution_count": 56,
   "metadata": {},
   "outputs": [
    {
     "name": "stdout",
     "output_type": "stream",
     "text": [
      "{}\n",
      "Time:  2023-04-02 20:54:56\n",
      "Arguments: 1000\n",
      "Error:  'str' object cannot be interpreted as an integer\n",
      "dothings took 0.00013481800033332547 seconds to execute.\n"
     ]
    }
   ],
   "source": [
    "# timer decorator\n",
    "from time import perf_counter\n",
    "from datetime import datetime\n",
    "from functools import wraps\n",
    "\n",
    "def timer(func):\n",
    "    \"\"\"this decorator prints out the execution time of a callable\"\"\"\n",
    "    \n",
    "    @wraps(func)\n",
    "    def wrapper(*args, **kwargs):\n",
    "        start = perf_counter()\n",
    "        result = func(*args, **kwargs)\n",
    "        end = perf_counter()\n",
    "        print(f\"{func.__name__} took {end - start} seconds to execute.\")\n",
    "        return result\n",
    "    \n",
    "    return wrapper\n",
    "\n",
    "\n",
    "def logexc(func):\n",
    "    \n",
    "    @wraps(func)\n",
    "    def wrapper(*args, **kwargs):\n",
    "        \n",
    "        args_repr = [repr(a) for a in args]\n",
    "        kwargs_repr = [f\"{k}={v!r}\" for k, v in kwargs.items()]\n",
    "        print(kwargs)\n",
    "        sig = \", \".join(args_repr + kwargs_repr)\n",
    "        try:\n",
    "            return func(*args, **kwargs)\n",
    "        except Exception as e:\n",
    "            print(\"Time: \", datetime.now().strftime(\"%Y-%m-%d %H:%M:%S\"))\n",
    "            print(\"Arguments:\", sig)\n",
    "            print(\"Error: \", e)\n",
    "        \n",
    "    return wrapper\n",
    "        \n",
    "        \n",
    "@timer \n",
    "@logexc\n",
    "def dothings(n_times):\n",
    "    for _ in range(n_times):\n",
    "        return sum([i**2 for i in range(10000)])\n",
    "    \n",
    "dothings(1000)"
   ]
  },
  {
   "cell_type": "code",
   "execution_count": 64,
   "metadata": {},
   "outputs": [
    {
     "name": "stdout",
     "output_type": "stream",
     "text": [
      "Retrying...  0\n",
      "Retrying...  1\n",
      "Retrying...  2\n"
     ]
    },
    {
     "data": {
      "text/plain": [
       "<Response [403]>"
      ]
     },
     "execution_count": 64,
     "metadata": {},
     "output_type": "execute_result"
    }
   ],
   "source": [
    "from functools import partial\n",
    "import requests \n",
    "\n",
    "def retry(func=None, n_tries: int = 3):\n",
    "    \n",
    "    if not func:\n",
    "        return partial(retry, n_tries=n_tries)\n",
    "    \n",
    "    @wraps(func)\n",
    "    def wrapper(*args, **kwargs):\n",
    "        tries = 0 \n",
    "        while True:\n",
    "            resp = func(*args, **kwargs)\n",
    "            if resp.status_code != 200 and tries < n_tries:\n",
    "                print(\"Retrying... \", tries)\n",
    "                tries += 1\n",
    "                continue \n",
    "            break \n",
    "        return resp \n",
    "    return wrapper \n",
    "\n",
    "\n",
    "# ver2 - create outer function for retry decorator\n",
    "def retry2(n_tries: int = 3):\n",
    "    def decorator(func):\n",
    "        @wraps(func)\n",
    "        def wrapper(*args, **kwargs):\n",
    "            tries = 0 \n",
    "            while True:\n",
    "                resp = func(*args, **kwargs)\n",
    "                if resp.status_code != 200 and tries < n_tries:\n",
    "                    print(\"Retrying... \", tries)\n",
    "                    tries += 1\n",
    "                    continue \n",
    "                break \n",
    "            return resp \n",
    "        return wrapper \n",
    "    return decorator\n",
    "\n",
    "@retry(n_tries=3)\n",
    "# @retry2(n_tries=3)\n",
    "def crawl(url: str):\n",
    "    return requests.get(url)\n",
    "\n",
    "crawl(\"https://www.tfs.com\")\n"
   ]
  },
  {
   "cell_type": "code",
   "execution_count": 66,
   "metadata": {},
   "outputs": [
    {
     "name": "stdout",
     "output_type": "stream",
     "text": [
      "Function foo has been called 1 times.\n",
      "Function foo has been called 2 times.\n"
     ]
    },
    {
     "data": {
      "text/plain": [
       "('Hello John', 'Hello haucx')"
      ]
     },
     "execution_count": 66,
     "metadata": {},
     "output_type": "execute_result"
    }
   ],
   "source": [
    "# try decorator with class \n",
    "from functools import update_wrapper\n",
    "\n",
    "class Tally:\n",
    "    def __init__(self, func):\n",
    "        update_wrapper(self, func)\n",
    "        self.func = func\n",
    "        self.tally = {}\n",
    "        self.n_calls = 0 \n",
    "        \n",
    "    def __call__(self, *args, **kwargs):\n",
    "        self.n_calls += 1\n",
    "        self.tally[self.func.__name__] = self.n_calls\n",
    "        \n",
    "        print(f\"Function {self.func.__name__} has been called {self.n_calls} times.\")\n",
    "        return self.func(*args, **kwargs)\n",
    "    \n",
    "@Tally \n",
    "def foo(name: str):\n",
    "    return f\"Hello {name}\"\n",
    "\n",
    "foo(\"John\"), foo(\"haucx\")"
   ]
  },
  {
   "cell_type": "code",
   "execution_count": 73,
   "metadata": {},
   "outputs": [
    {
     "name": "stdout",
     "output_type": "stream",
     "text": [
      "Conversion to:  MILES\n",
      "after connvert 200 meters to miles:  0.1242742\n"
     ]
    }
   ],
   "source": [
    "from enum import Enum \n",
    "\n",
    "class ConvertMetersTo(Enum):\n",
    "    FEET = 3.28084\n",
    "    YARDS = 1.09361\n",
    "    MILES = 0.000621371\n",
    "    \n",
    "    def convert(self, value: float) -> float:\n",
    "        return value * self.value\n",
    "    \n",
    "def convert(func=None, convert_to=None):\n",
    "    if func is None:\n",
    "        return partial(convert, convert_to=convert_to)\n",
    "    \n",
    "    @wraps(func)\n",
    "    def wrapper(*args, **kwargs):\n",
    "        print(\"Conversion to: \", convert_to)\n",
    "        \n",
    "        ret = func(*args, **kwargs)\n",
    "        \n",
    "        if convert_to is None:\n",
    "            return ret\n",
    "        elif convert_to in ConvertMetersTo.__members__:\n",
    "            return ConvertMetersTo[convert_to].convert(ret)\n",
    "        else:\n",
    "            raise ValueError(f\"Conversion to {convert_to} is not supported.\")\n",
    "        \n",
    "    return wrapper\n",
    "\n",
    "@convert(convert_to=\"MILES\")\n",
    "def area(a, b):\n",
    "    return a*b \n",
    "\n",
    "result = area(10, 20)\n",
    "print(f\"after connvert {10*20} meters to miles: \", result)\n",
    "        "
   ]
  },
  {
   "cell_type": "code",
   "execution_count": 4,
   "metadata": {},
   "outputs": [
    {
     "data": {
      "text/plain": [
       "{'spam': 1, 'eggs': 2, 'cheese': 5, 'extra': 4}"
      ]
     },
     "execution_count": 4,
     "metadata": {},
     "output_type": "execute_result"
    }
   ],
   "source": [
    "x = {'spam': 1, 'eggs': 2, 'cheese': 3}\n",
    "y = {'cheese': 5, 'extra': 4}\n",
    "\n",
    "\n",
    "x | y"
   ]
  },
  {
   "cell_type": "code",
   "execution_count": 13,
   "metadata": {},
   "outputs": [
    {
     "name": "stdout",
     "output_type": "stream",
     "text": [
      "0.1048231049990136\n",
      "333332833333500000\n",
      "You clicked me\n",
      "You clicked me\n",
      "You clicked me\n",
      "hello\n",
      "You clicked me\n",
      "You clicked me\n",
      "You clicked me\n",
      "You clicked me\n",
      "You clicked me\n",
      "You clicked me\n"
     ]
    }
   ],
   "source": [
    "import time\n",
    "\n",
    "\n",
    "def timed(f):\n",
    "    def timed_f(*args, **kwargs):\n",
    "        start = time.perf_counter()\n",
    "        value = f(*args, **kwargs)\n",
    "        elapsed = time.perf_counter() - start\n",
    "        print(elapsed)\n",
    "        return value\n",
    "\n",
    "    return timed_f\n",
    "\n",
    "\n",
    "@timed\n",
    "def expensive_f():\n",
    "    return sum(i ** 2 for i in range(1000000))\n",
    "\n",
    "\n",
    "# expensive_f = timed(expensive_f)\n",
    "\n",
    "class Button:\n",
    "    def on_clicked(self):\n",
    "        print('You clicked me')\n",
    "\n",
    "    def register_on_clicked(self, f):\n",
    "        self.on_clicked = f\n",
    "        return f\n",
    "\n",
    "\n",
    "buttons = [Button() for _ in range(10)]\n",
    "\n",
    "\n",
    "@buttons[3].register_on_clicked\n",
    "def print_hello():\n",
    "    print('hello')\n",
    "\n",
    "\n",
    "if __name__ == '__main__':\n",
    "    print(expensive_f())\n",
    "\n",
    "    for button in buttons:\n",
    "        button.on_clicked()"
   ]
  }
 ],
 "metadata": {
  "kernelspec": {
   "display_name": "Python 3.11.0 ('chanhchuachin')",
   "language": "python",
   "name": "python3"
  },
  "language_info": {
   "codemirror_mode": {
    "name": "ipython",
    "version": 3
   },
   "file_extension": ".py",
   "mimetype": "text/x-python",
   "name": "python",
   "nbconvert_exporter": "python",
   "pygments_lexer": "ipython3",
   "version": "3.11.0"
  },
  "orig_nbformat": 4,
  "vscode": {
   "interpreter": {
    "hash": "d67aa499e4c21c12d77655d014580e5ff776e423ea0bcfbd7a38ba167445a1ea"
   }
  }
 },
 "nbformat": 4,
 "nbformat_minor": 2
}
